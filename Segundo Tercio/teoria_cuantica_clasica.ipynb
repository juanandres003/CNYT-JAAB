{
 "cells": [
  {
   "cell_type": "markdown",
   "metadata": {},
   "source": [
    "# Simule el primer sistema cuántico descrito en la sección 4.1\n",
    "\n",
    "El sistema consiste en una partícula confinada a un conjunto discreto de posiciones en una línea. El simulador debe permitir especificar el número de posiciones y un vector ket de estado asignando las amplitudes.\n",
    "\n",
    "1. El sistema debe calcular la probabilidad de encontrarlo en una posición en particular."
   ]
  },
  {
   "cell_type": "code",
   "execution_count": 16,
   "metadata": {},
   "outputs": [
    {
     "name": "stdout",
     "output_type": "stream",
     "text": [
      "La probabilidad de que el sistema se encuentre en el estado 1 es: 20.000000000000004 %\n"
     ]
    }
   ],
   "source": [
    "import numpy as np\n",
    "\n",
    "# Solicitar al usuario el número de elementos del vector\n",
    "num_elementos = int(input(\"Ingrese el número de elementos del vector: \"))\n",
    "\n",
    "# Solicitar al usuario los elementos del vector\n",
    "v = np.zeros(num_elementos, dtype=complex)\n",
    "for i in range(num_elementos):\n",
    "    real = float(input(f\"Ingrese la parte real del elemento {i+1}: \"))\n",
    "    imag = float(input(f\"Ingrese la parte imaginaria del elemento {i+1}: \"))\n",
    "    v[i] = complex(real, imag)\n",
    "\n",
    "# Calcular la norma del vector\n",
    "norm = np.linalg.norm(v)\n",
    "normalized_v = v / norm\n",
    "\n",
    "# Solicitar al usuario el sitio donde se quiere calcular la probabilidad\n",
    "n = int(input(f\"Ingrese el sitio (1 a {num_elementos}) donde quiere calcular la probabilidad: \"))\n",
    "\n",
    "# Calcular la probabilidad\n",
    "probabilidad = np.abs(normalized_v[n-1])**2\n",
    "\n",
    "print(\"La probabilidad de que el sistema se encuentre en el estado\", n , \"es:\", probabilidad*100, \"%\")\n"
   ]
  },
  {
   "cell_type": "markdown",
   "metadata": {},
   "source": [
    "2. El sistema si se le da otro vector Ket debe buscar la probabilidad de transitar del primer vector al segundo."
   ]
  },
  {
   "cell_type": "code",
   "execution_count": 3,
   "metadata": {},
   "outputs": [
    {
     "name": "stdout",
     "output_type": "stream",
     "text": [
      "La probabilidad de transición entre los dos estados es: 100.00000000000004 %\n"
     ]
    }
   ],
   "source": [
    "import numpy as np\n",
    "\n",
    "num_elementos = int(input(\"Ingrese el número de elementos del vector: \"))\n",
    "\n",
    "# Solicitar al usuario los elementos del vector inicial\n",
    "v_inicial = np.zeros(num_elementos, dtype=complex)\n",
    "for i in range(num_elementos):\n",
    "    real = float(input(f\"Ingrese la parte real del elemento {i+1}: \"))\n",
    "    imag = float(input(f\"Ingrese la parte imaginaria del elemento {i+1}: \"))\n",
    "    v_inicial[i] = complex(real, imag)\n",
    "\n",
    "# Solicitar al usuario los elementos del vector final\n",
    "v_final = np.zeros(num_elementos, dtype=complex)\n",
    "for i in range(num_elementos):\n",
    "    real = float(input(f\"Ingrese la parte real del elemento {i+1}: \"))\n",
    "    imag = float(input(f\"Ingrese la parte imaginaria del elemento {i+1}: \"))\n",
    "    v_final[i] = complex(real, imag)\n",
    "\n",
    "# Normalizar los vectores\n",
    "\n",
    "norm_inicial = np.linalg.norm(v_inicial)\n",
    "normalized_v_inicial = v_inicial / norm_inicial\n",
    "\n",
    "norm_final = np.linalg.norm(v_final)\n",
    "normalized_v_final = v_final / norm_final\n",
    "\n",
    "# Calcular la adjunta del vector inicial\n",
    "\n",
    "adjunta_v_inicial = np.conj(normalized_v_inicial).T\n",
    "\n",
    "# Calcular el producto interno entre el vector final y la adjunta del vector inicial\n",
    "\n",
    "producto_interno = np.dot(adjunta_v_inicial, normalized_v_final)\n",
    "\n",
    "# Calcular la probabilidad de transición\n",
    "\n",
    "probabilidad_transicion = np.abs(producto_interno)**2\n",
    "\n",
    "print(\"La probabilidad de transición entre los dos estados es:\", probabilidad_transicion*100, \"%\")"
   ]
  }
 ],
 "metadata": {
  "kernelspec": {
   "display_name": ".venv",
   "language": "python",
   "name": "python3"
  },
  "language_info": {
   "codemirror_mode": {
    "name": "ipython",
    "version": 3
   },
   "file_extension": ".py",
   "mimetype": "text/x-python",
   "name": "python",
   "nbconvert_exporter": "python",
   "pygments_lexer": "ipython3",
   "version": "3.12.5"
  }
 },
 "nbformat": 4,
 "nbformat_minor": 2
}
